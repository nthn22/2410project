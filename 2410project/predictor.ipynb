{
 "cells": [
  {
   "cell_type": "code",
   "execution_count": 2,
   "metadata": {},
   "outputs": [
    {
     "name": "stdout",
     "output_type": "stream",
     "text": [
      "Year added to last5seasonsrecords/NBA_2024_Eastern_Conference_Standing.csv\n",
      "Year added to advancedteamstats/Boston_Celtics_2023_24_Team_Misc_Stats.csv\n"
     ]
    },
    {
     "ename": "KeyError",
     "evalue": "'Team'",
     "output_type": "error",
     "traceback": [
      "\u001b[1;31m---------------------------------------------------------------------------\u001b[0m",
      "\u001b[1;31mKeyError\u001b[0m                                  Traceback (most recent call last)",
      "\u001b[1;32m~\\AppData\\Local\\Temp\\ipykernel_90976\\2988995552.py\u001b[0m in \u001b[0;36m<module>\u001b[1;34m\u001b[0m\n\u001b[0;32m     35\u001b[0m \u001b[1;33m\u001b[0m\u001b[0m\n\u001b[0;32m     36\u001b[0m \u001b[1;31m# Merge datasets on team and year\u001b[0m\u001b[1;33m\u001b[0m\u001b[1;33m\u001b[0m\u001b[1;33m\u001b[0m\u001b[0m\n\u001b[1;32m---> 37\u001b[1;33m \u001b[0mmerged_data\u001b[0m \u001b[1;33m=\u001b[0m \u001b[0mpd\u001b[0m\u001b[1;33m.\u001b[0m\u001b[0mmerge\u001b[0m\u001b[1;33m(\u001b[0m\u001b[0meastern_standing\u001b[0m\u001b[1;33m,\u001b[0m \u001b[0mteam_misc_stats\u001b[0m\u001b[1;33m,\u001b[0m \u001b[0mon\u001b[0m\u001b[1;33m=\u001b[0m\u001b[1;33m[\u001b[0m\u001b[1;34m\"Team\"\u001b[0m\u001b[1;33m,\u001b[0m \u001b[1;34m\"Year\"\u001b[0m\u001b[1;33m]\u001b[0m\u001b[1;33m)\u001b[0m\u001b[1;33m\u001b[0m\u001b[1;33m\u001b[0m\u001b[0m\n\u001b[0m\u001b[0;32m     38\u001b[0m \u001b[1;33m\u001b[0m\u001b[0m\n\u001b[0;32m     39\u001b[0m \u001b[1;31m# Select relevant columns for features and target\u001b[0m\u001b[1;33m\u001b[0m\u001b[1;33m\u001b[0m\u001b[1;33m\u001b[0m\u001b[0m\n",
      "\u001b[1;32mc:\\Users\\19092\\AppData\\Local\\Programs\\Python\\Python37\\lib\\site-packages\\pandas\\core\\reshape\\merge.py\u001b[0m in \u001b[0;36mmerge\u001b[1;34m(left, right, how, on, left_on, right_on, left_index, right_index, sort, suffixes, copy, indicator, validate)\u001b[0m\n\u001b[0;32m    117\u001b[0m         \u001b[0mcopy\u001b[0m\u001b[1;33m=\u001b[0m\u001b[0mcopy\u001b[0m\u001b[1;33m,\u001b[0m\u001b[1;33m\u001b[0m\u001b[1;33m\u001b[0m\u001b[0m\n\u001b[0;32m    118\u001b[0m         \u001b[0mindicator\u001b[0m\u001b[1;33m=\u001b[0m\u001b[0mindicator\u001b[0m\u001b[1;33m,\u001b[0m\u001b[1;33m\u001b[0m\u001b[1;33m\u001b[0m\u001b[0m\n\u001b[1;32m--> 119\u001b[1;33m         \u001b[0mvalidate\u001b[0m\u001b[1;33m=\u001b[0m\u001b[0mvalidate\u001b[0m\u001b[1;33m,\u001b[0m\u001b[1;33m\u001b[0m\u001b[1;33m\u001b[0m\u001b[0m\n\u001b[0m\u001b[0;32m    120\u001b[0m     )\n\u001b[0;32m    121\u001b[0m     \u001b[1;32mreturn\u001b[0m \u001b[0mop\u001b[0m\u001b[1;33m.\u001b[0m\u001b[0mget_result\u001b[0m\u001b[1;33m(\u001b[0m\u001b[1;33m)\u001b[0m\u001b[1;33m\u001b[0m\u001b[1;33m\u001b[0m\u001b[0m\n",
      "\u001b[1;32mc:\\Users\\19092\\AppData\\Local\\Programs\\Python\\Python37\\lib\\site-packages\\pandas\\core\\reshape\\merge.py\u001b[0m in \u001b[0;36m__init__\u001b[1;34m(self, left, right, how, on, left_on, right_on, axis, left_index, right_index, sort, suffixes, copy, indicator, validate)\u001b[0m\n\u001b[0;32m    697\u001b[0m             \u001b[0mself\u001b[0m\u001b[1;33m.\u001b[0m\u001b[0mright_join_keys\u001b[0m\u001b[1;33m,\u001b[0m\u001b[1;33m\u001b[0m\u001b[1;33m\u001b[0m\u001b[0m\n\u001b[0;32m    698\u001b[0m             \u001b[0mself\u001b[0m\u001b[1;33m.\u001b[0m\u001b[0mjoin_names\u001b[0m\u001b[1;33m,\u001b[0m\u001b[1;33m\u001b[0m\u001b[1;33m\u001b[0m\u001b[0m\n\u001b[1;32m--> 699\u001b[1;33m         ) = self._get_merge_keys()\n\u001b[0m\u001b[0;32m    700\u001b[0m \u001b[1;33m\u001b[0m\u001b[0m\n\u001b[0;32m    701\u001b[0m         \u001b[1;31m# validate the merge keys dtypes. We may need to coerce\u001b[0m\u001b[1;33m\u001b[0m\u001b[1;33m\u001b[0m\u001b[1;33m\u001b[0m\u001b[0m\n",
      "\u001b[1;32mc:\\Users\\19092\\AppData\\Local\\Programs\\Python\\Python37\\lib\\site-packages\\pandas\\core\\reshape\\merge.py\u001b[0m in \u001b[0;36m_get_merge_keys\u001b[1;34m(self)\u001b[0m\n\u001b[0;32m   1094\u001b[0m                     \u001b[1;32mif\u001b[0m \u001b[1;32mnot\u001b[0m \u001b[0mis_rkey\u001b[0m\u001b[1;33m(\u001b[0m\u001b[0mrk\u001b[0m\u001b[1;33m)\u001b[0m\u001b[1;33m:\u001b[0m\u001b[1;33m\u001b[0m\u001b[1;33m\u001b[0m\u001b[0m\n\u001b[0;32m   1095\u001b[0m                         \u001b[1;32mif\u001b[0m \u001b[0mrk\u001b[0m \u001b[1;32mis\u001b[0m \u001b[1;32mnot\u001b[0m \u001b[1;32mNone\u001b[0m\u001b[1;33m:\u001b[0m\u001b[1;33m\u001b[0m\u001b[1;33m\u001b[0m\u001b[0m\n\u001b[1;32m-> 1096\u001b[1;33m                             \u001b[0mright_keys\u001b[0m\u001b[1;33m.\u001b[0m\u001b[0mappend\u001b[0m\u001b[1;33m(\u001b[0m\u001b[0mright\u001b[0m\u001b[1;33m.\u001b[0m\u001b[0m_get_label_or_level_values\u001b[0m\u001b[1;33m(\u001b[0m\u001b[0mrk\u001b[0m\u001b[1;33m)\u001b[0m\u001b[1;33m)\u001b[0m\u001b[1;33m\u001b[0m\u001b[1;33m\u001b[0m\u001b[0m\n\u001b[0m\u001b[0;32m   1097\u001b[0m                         \u001b[1;32melse\u001b[0m\u001b[1;33m:\u001b[0m\u001b[1;33m\u001b[0m\u001b[1;33m\u001b[0m\u001b[0m\n\u001b[0;32m   1098\u001b[0m                             \u001b[1;31m# work-around for merge_asof(right_index=True)\u001b[0m\u001b[1;33m\u001b[0m\u001b[1;33m\u001b[0m\u001b[1;33m\u001b[0m\u001b[0m\n",
      "\u001b[1;32mc:\\Users\\19092\\AppData\\Local\\Programs\\Python\\Python37\\lib\\site-packages\\pandas\\core\\generic.py\u001b[0m in \u001b[0;36m_get_label_or_level_values\u001b[1;34m(self, key, axis)\u001b[0m\n\u001b[0;32m   1777\u001b[0m             \u001b[0mvalues\u001b[0m \u001b[1;33m=\u001b[0m \u001b[0mself\u001b[0m\u001b[1;33m.\u001b[0m\u001b[0maxes\u001b[0m\u001b[1;33m[\u001b[0m\u001b[0maxis\u001b[0m\u001b[1;33m]\u001b[0m\u001b[1;33m.\u001b[0m\u001b[0mget_level_values\u001b[0m\u001b[1;33m(\u001b[0m\u001b[0mkey\u001b[0m\u001b[1;33m)\u001b[0m\u001b[1;33m.\u001b[0m\u001b[0m_values\u001b[0m\u001b[1;33m\u001b[0m\u001b[1;33m\u001b[0m\u001b[0m\n\u001b[0;32m   1778\u001b[0m         \u001b[1;32melse\u001b[0m\u001b[1;33m:\u001b[0m\u001b[1;33m\u001b[0m\u001b[1;33m\u001b[0m\u001b[0m\n\u001b[1;32m-> 1779\u001b[1;33m             \u001b[1;32mraise\u001b[0m \u001b[0mKeyError\u001b[0m\u001b[1;33m(\u001b[0m\u001b[0mkey\u001b[0m\u001b[1;33m)\u001b[0m\u001b[1;33m\u001b[0m\u001b[1;33m\u001b[0m\u001b[0m\n\u001b[0m\u001b[0;32m   1780\u001b[0m \u001b[1;33m\u001b[0m\u001b[0m\n\u001b[0;32m   1781\u001b[0m         \u001b[1;31m# Check for duplicates\u001b[0m\u001b[1;33m\u001b[0m\u001b[1;33m\u001b[0m\u001b[1;33m\u001b[0m\u001b[0m\n",
      "\u001b[1;31mKeyError\u001b[0m: 'Team'"
     ]
    }
   ],
   "source": [
    "import os\n",
    "import pandas as pd\n",
    "from sklearn.model_selection import train_test_split\n",
    "from sklearn.ensemble import RandomForestClassifier\n",
    "from sklearn.metrics import accuracy_score\n",
    "import matplotlib.pyplot as plt\n",
    "\n",
    "# Function to add year column based on file name\n",
    "def add_year_to_csv(file_path):\n",
    "    # Extract the year from the filename\n",
    "    file_name = os.path.basename(file_path)\n",
    "    year = file_name.split('_')[1][:4]  # Assumes year is the second element and is 4 digits\n",
    "\n",
    "    # Read the CSV\n",
    "    df = pd.read_csv(file_path)\n",
    "\n",
    "    # Add year column\n",
    "    df['Year'] = year\n",
    "\n",
    "    # Save updated CSV\n",
    "    df.to_csv(file_path, index=False)\n",
    "    print(f\"Year added to {file_path}\")\n",
    "\n",
    "# File paths\n",
    "eastern_file = \"last5seasonsrecords/NBA_2024_Eastern_Conference_Standing.csv\"\n",
    "team_misc_stats_file = \"advancedteamstats/Boston_Celtics_2023_24_Team_Misc_Stats.csv\"\n",
    "\n",
    "# Add year to both files\n",
    "add_year_to_csv(eastern_file)\n",
    "add_year_to_csv(team_misc_stats_file)\n",
    "\n",
    "# Load updated datasets\n",
    "eastern_standing = pd.read_csv(eastern_file)\n",
    "team_misc_stats = pd.read_csv(team_misc_stats_file)\n",
    "\n",
    "# Merge datasets on team and year\n",
    "merged_data = pd.merge(eastern_standing, team_misc_stats, on=[\"Team\", \"Year\"])\n",
    "\n",
    "# Select relevant columns for features and target\n",
    "features = ['W/L%', 'NetRtg', 'ORtg', 'DRtg']  # Example features\n",
    "target = 'Win Finals'\n",
    "\n",
    "# Ensure the target is binary\n",
    "merged_data[target] = (merged_data[target] > 0).astype(int)\n",
    "\n",
    "# Drop rows with missing values\n",
    "merged_data = merged_data.dropna(subset=features + [target])\n",
    "\n",
    "# Train-test split\n",
    "X = merged_data[features]\n",
    "y = merged_data[target]\n",
    "X_train, X_test, y_train, y_test = train_test_split(X, y, test_size=0.2, random_state=42)\n",
    "\n",
    "# Train RandomForest model\n",
    "model = RandomForestClassifier(random_state=42)\n",
    "model.fit(X_train, y_train)\n",
    "\n",
    "# Predictions\n",
    "y_pred = model.predict(X_test)\n",
    "\n",
    "# Evaluate the model\n",
    "accuracy = accuracy_score(y_test, y_pred)\n",
    "print(f\"Accuracy: {accuracy:.2f}\")\n",
    "\n",
    "# Plot feature importance\n",
    "importances = model.feature_importances_\n",
    "plt.figure(figsize=(8, 5))\n",
    "plt.bar(features, importances, color=\"skyblue\")\n",
    "plt.title(\"Feature Importance for Championship Prediction\")\n",
    "plt.xlabel(\"Features\")\n",
    "plt.ylabel(\"Importance\")\n",
    "plt.show()\n"
   ]
  },
  {
   "cell_type": "code",
   "execution_count": 3,
   "metadata": {},
   "outputs": [
    {
     "name": "stdout",
     "output_type": "stream",
     "text": [
      "Index(['Eastern Conference', 'W', 'L', 'W/L%', 'SOS', 'rSOS', 'SRS', 'Current',\n",
      "       'Remain', 'Best', 'Worst', 'Playoffs', 'Division', '1', '2', '3', '4',\n",
      "       '5', '6', '7', '8', 'Unnamed: 21', '1-6', '7.1', '8.1', '9', '10',\n",
      "       'Out', 'Unnamed: 28', 'Win Conf', 'Win Finals', 'Year'],\n",
      "      dtype='object')\n",
      "Index(['Category', 'TeamR', 'Lg Rank', 'Year'], dtype='object')\n"
     ]
    }
   ],
   "source": [
    "print(eastern_standing.columns)\n",
    "print(team_misc_stats.columns)\n"
   ]
  },
  {
   "cell_type": "code",
   "execution_count": 8,
   "metadata": {},
   "outputs": [
    {
     "name": "stdout",
     "output_type": "stream",
     "text": [
      "  Category TeamR  Lg Rank Team   Year\n",
      "0        W    52      3.0  LAL  Stats\n",
      "1        L    19     28.0  LAL  Stats\n",
      "2       PW    48      6.0  LAL  Stats\n",
      "3       PL    23      5.0  LAL  Stats\n",
      "4      MOV  5.79      5.0  LAL  Stats\n"
     ]
    }
   ],
   "source": [
    "import pandas as pd\n",
    "import os\n",
    "\n",
    "# Define the folder for team misc stats\n",
    "team_misc_stats_folder = \"./advancedteamstats\"\n",
    "\n",
    "# Function to extract team name from filename\n",
    "def extract_team_name(filename):\n",
    "    return filename.split(\"_\")[0]  # Extract team name before the first underscore\n",
    "\n",
    "# Add Team and Year columns to the files in the folder\n",
    "for file in os.listdir(team_misc_stats_folder):\n",
    "    if file.endswith(\".csv\"):\n",
    "        file_path = os.path.join(team_misc_stats_folder, file)\n",
    "        data = pd.read_csv(file_path)\n",
    "        team_name = extract_team_name(file)\n",
    "        year = file.split(\"_\")[-1].split(\".\")[0]  # Extract year from filename\n",
    "        data['Team'] = team_name\n",
    "        data['Year'] = year\n",
    "        data.to_csv(file_path, index=False)\n",
    "\n",
    "# Verify by loading one of the updated files\n",
    "file_to_check = os.path.join(team_misc_stats_folder, \"LAL_2020_Team_Misc_Stats.csv\")\n",
    "updated_data = pd.read_csv(file_to_check)\n",
    "print(updated_data.head())"
   ]
  },
  {
   "cell_type": "code",
   "execution_count": 10,
   "metadata": {},
   "outputs": [
    {
     "name": "stdout",
     "output_type": "stream",
     "text": [
      "  Category  TeamR  Lg Rank  Year    Team\n",
      "0        W     64      1.0  2024  Boston\n",
      "1        L     18     30.0  2024  Boston\n",
      "2       PW     66      1.0  2024  Boston\n",
      "3       PL     16      1.0  2024  Boston\n",
      "4      MOV  11.34     29.0  2024  Boston\n"
     ]
    }
   ],
   "source": [
    "import pandas as pd\n",
    "import os\n",
    "\n",
    "# Define the folder for team misc stats\n",
    "team_misc_stats_folder = \"./advancedteamstats\"\n",
    "\n",
    "# Function to extract team name from filename\n",
    "def extract_team_name(filename):\n",
    "    return filename.split(\"_\")[0]  # Extract team name before the first underscore\n",
    "\n",
    "# Function to extract year from filename\n",
    "def extract_year(filename):\n",
    "    # Extract the second-to-last segment assuming filenames like `Boston_Celtics_2024_Team_Misc_Stats.csv`\n",
    "    segments = filename.split(\"_\")\n",
    "    for segment in segments:\n",
    "        if segment.isdigit():  # Check if the segment is numeric (e.g., '2024')\n",
    "            return segment\n",
    "    return \"Unknown\"  # Fallback if no year found\n",
    "\n",
    "# Add Team and Year columns to the files in the folder\n",
    "for file in os.listdir(team_misc_stats_folder):\n",
    "    if file.endswith(\".csv\"):\n",
    "        file_path = os.path.join(team_misc_stats_folder, file)\n",
    "        data = pd.read_csv(file_path)\n",
    "        team_name = extract_team_name(file)\n",
    "        year = extract_year(file)\n",
    "        data['Team'] = team_name\n",
    "        data['Year'] = year\n",
    "        data.to_csv(file_path, index=False)\n",
    "\n",
    "# Verify by loading one of the updated files\n",
    "file_to_check = os.path.join(team_misc_stats_folder, \"Boston_Celtics_2024_Team_Misc_Stats.csv\")\n",
    "updated_data = pd.read_csv(file_to_check)\n",
    "print(updated_data.head())\n"
   ]
  }
 ],
 "metadata": {
  "kernelspec": {
   "display_name": "Python 3",
   "language": "python",
   "name": "python3"
  },
  "language_info": {
   "codemirror_mode": {
    "name": "ipython",
    "version": 3
   },
   "file_extension": ".py",
   "mimetype": "text/x-python",
   "name": "python",
   "nbconvert_exporter": "python",
   "pygments_lexer": "ipython3",
   "version": "3.7.9"
  }
 },
 "nbformat": 4,
 "nbformat_minor": 2
}
