{
 "cells": [
  {
   "cell_type": "code",
   "execution_count": 3,
   "metadata": {},
   "outputs": [
    {
     "name": "stdout",
     "output_type": "stream",
     "text": [
      "Eastern and Western Conference standings saved to CSV files.\n"
     ]
    }
   ],
   "source": [
    "import requests\n",
    "import pandas as pd\n",
    "from bs4 import BeautifulSoup\n",
    "\n",
    "# URL of the Basketball Reference page\n",
    "url = \"https://www.basketball-reference.com/leagues/NBA_2020.html\"\n",
    "\n",
    "# Send a request to the page\n",
    "response = requests.get(url)\n",
    "soup = BeautifulSoup(response.content, \"html.parser\")\n",
    "\n",
    "# Define a function to parse the standings table\n",
    "def parse_table(table_id, conference_name):\n",
    "    table = soup.find(\"table\", {\"id\": table_id})\n",
    "    headers = [th.text.strip() for th in table.find(\"thead\").find_all(\"th\")]  # Include the team name header\n",
    "    data = []\n",
    "    rows = table.find(\"tbody\").find_all(\"tr\")\n",
    "    for row in rows:\n",
    "        if row.find(\"th\", {\"scope\": \"row\"}):  # Exclude separator rows\n",
    "            # Extract team name\n",
    "            team_name = row.find(\"th\", {\"scope\": \"row\"}).text.strip()\n",
    "            # Extract stats\n",
    "            cells = row.find_all(\"td\")\n",
    "            row_data = [team_name] + [cell.text.strip() for cell in cells]\n",
    "            data.append(row_data)\n",
    "    df = pd.DataFrame(data, columns=headers)\n",
    "    df.insert(0, \"Conference\", conference_name)  # Add a conference column\n",
    "    return df\n",
    "\n",
    "\n",
    "# Parse Eastern and Western Conference tables\n",
    "eastern_df = parse_table(\"confs_standings_E\", \"Eastern Conference\")\n",
    "western_df = parse_table(\"confs_standings_W\", \"Western Conference\")\n",
    "\n",
    "# Save the data into CSV files\n",
    "eastern_df.to_csv(\"NBA_2020_Eastern_Conference_Standings.csv\", index=False)\n",
    "western_df.to_csv(\"NBA_2020_Western_Conference_Standings.csv\", index=False)\n",
    "\n",
    "# Display success message\n",
    "print(\"Eastern and Western Conference standings saved to CSV files.\")\n"
   ]
  }
 ],
 "metadata": {
  "kernelspec": {
   "display_name": "Python 3",
   "language": "python",
   "name": "python3"
  },
  "language_info": {
   "codemirror_mode": {
    "name": "ipython",
    "version": 3
   },
   "file_extension": ".py",
   "mimetype": "text/x-python",
   "name": "python",
   "nbconvert_exporter": "python",
   "pygments_lexer": "ipython3",
   "version": "3.7.9"
  }
 },
 "nbformat": 4,
 "nbformat_minor": 2
}
