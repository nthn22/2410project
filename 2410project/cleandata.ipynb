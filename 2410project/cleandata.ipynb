{
 "cells": [
  {
   "cell_type": "code",
   "execution_count": null,
   "metadata": {},
   "outputs": [
    {
     "name": "stdout",
     "output_type": "stream",
     "text": [
      "Initial Data Overview:\n",
      "    Season  Age   Tm   Lg   G   W   L   W/L%  W > .500  Finish  Unnamed: 10  \\\n",
      "0  2014-15   49  GSW  NBA  82  67  15  0.817      26.0       1          NaN   \n",
      "1  2015-16   50  GSW  NBA  82  73   9  0.890      32.0       1          NaN   \n",
      "2  2016-17   51  GSW  NBA  82  67  15  0.817      26.0       1          NaN   \n",
      "3  2017-18   52  GSW  NBA  82  58  24  0.707      17.0       1          NaN   \n",
      "4  2018-19   53  GSW  NBA  82  57  25  0.695      16.0       1          NaN   \n",
      "\n",
      "    G.1   W.1  L.1  W/L%.1          Notes  \n",
      "0  21.0  16.0  5.0   0.762  NBA Champions  \n",
      "1  24.0  15.0  9.0   0.625   WC Champions  \n",
      "2  17.0  16.0  1.0   0.941  NBA Champions  \n",
      "3  21.0  16.0  5.0   0.762  NBA Champions  \n",
      "4  22.0  14.0  8.0   0.636   WC Champions  \n",
      "Cleaned Data Overview:\n",
      "    Season  Age   Tm   Lg   G   W   L   W/L%  W > .500  Finish Unnamed: 10  \\\n",
      "0  2014-15   49  GSW  NBA  82  67  15  0.817      26.0       1           x   \n",
      "1  2015-16   50  GSW  NBA  82  73   9  0.890      32.0       1           x   \n",
      "2  2016-17   51  GSW  NBA  82  67  15  0.817      26.0       1           x   \n",
      "3  2017-18   52  GSW  NBA  82  58  24  0.707      17.0       1           x   \n",
      "4  2018-19   53  GSW  NBA  82  57  25  0.695      16.0       1           x   \n",
      "\n",
      "    G.1   W.1  L.1 W/L%.1          Notes  \n",
      "0  21.0  16.0  5.0  0.762  NBA Champions  \n",
      "1  24.0  15.0  9.0  0.625   WC Champions  \n",
      "2  17.0  16.0  1.0  0.941  NBA Champions  \n",
      "3  21.0  16.0  5.0  0.762  NBA Champions  \n",
      "4  22.0  14.0  8.0  0.636   WC Champions  \n",
      "Cleaned data saved to Steve_Kerr_Coaching_Record_Cleaned_Output.csv.\n"
     ]
    }
   ],
   "source": [
    "import pandas as pd\n",
    "\n",
    "# Load the CSV file\n",
    "file_path = 'championcoaches/Steve_Kerr_Coaching_Record_Cleaned.csv' \n",
    "df = pd.read_csv(file_path)\n",
    "\n",
    "# Print initial data overview\n",
    "print(\"Initial Data Overview:\")\n",
    "print(df.head())\n",
    "\n",
    "# Replace ',' or other placeholders for missing values with NaN\n",
    "df.replace({',': None, '...': None, '.': None, ' ': None}, inplace=True)\n",
    "\n",
    "\n",
    "#Fill missing values with 0 or a specific value\n",
    "df.fillna('x', inplace=True)  # Replace NaN with 0\n",
    "\n",
    "\n",
    "# Print cleaned data overview\n",
    "print(\"Cleaned Data Overview:\")\n",
    "print(df.head())\n",
    "\n",
    "# Save the cleaned dataset to a new CSV file\n",
    "output_path = 'Steve_Kerr_Coaching_Record_Cleaned_Output.csv'\n",
    "df.to_csv(output_path, index=False)\n",
    "print(f\"Cleaned data saved to {output_path}.\")\n"
   ]
  }
 ],
 "metadata": {
  "kernelspec": {
   "display_name": "Python 3",
   "language": "python",
   "name": "python3"
  },
  "language_info": {
   "codemirror_mode": {
    "name": "ipython",
    "version": 3
   },
   "file_extension": ".py",
   "mimetype": "text/x-python",
   "name": "python",
   "nbconvert_exporter": "python",
   "pygments_lexer": "ipython3",
   "version": "3.7.9"
  }
 },
 "nbformat": 4,
 "nbformat_minor": 2
}
